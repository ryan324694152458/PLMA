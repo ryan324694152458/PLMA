{
  "nbformat": 4,
  "nbformat_minor": 0,
  "metadata": {
    "colab": {
      "provenance": []
    },
    "kernelspec": {
      "name": "python3",
      "display_name": "Python 3"
    },
    "language_info": {
      "name": "python"
    }
  },
  "cells": [
    {
      "cell_type": "code",
      "execution_count": 3,
      "metadata": {
        "colab": {
          "base_uri": "https://localhost:8080/"
        },
        "id": "6kktkjUAum63",
        "outputId": "a2c51cca-9166-47ef-fe00-e9198d6e7e0d"
      },
      "outputs": [
        {
          "output_type": "stream",
          "name": "stdout",
          "text": [
            "請輸入年分2000\n",
            "閏年\n"
          ]
        }
      ],
      "source": [
        "a=int(input('請輸入年分'))\n",
        "if a<1582:\n",
        "  if a%4==0:\n",
        "    print('閏年')\n",
        "  else:\n",
        "    print('平年')\n",
        "elif a>=1582:\n",
        "  if a%4==0 and a%100!=0 or a%400==0:\n",
        "    print('閏年')\n",
        "  else:\n",
        "    print('平年')"
      ]
    }
  ]
}
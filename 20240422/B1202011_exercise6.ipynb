{
  "nbformat": 4,
  "nbformat_minor": 0,
  "metadata": {
    "colab": {
      "provenance": []
    },
    "kernelspec": {
      "name": "python3",
      "display_name": "Python 3"
    },
    "language_info": {
      "name": "python"
    }
  },
  "cells": [
    {
      "cell_type": "code",
      "execution_count": null,
      "metadata": {
        "colab": {
          "base_uri": "https://localhost:8080/"
        },
        "id": "I64CiJujofcg",
        "outputId": "ae039a6b-ad00-444f-d3bf-fa12cbbf0718"
      },
      "outputs": [
        {
          "output_type": "stream",
          "name": "stdout",
          "text": [
            "1x1=1   2x1=2   3x1=3   4x1=4   5x1=5   6x1=6   7x1=7   8x1=8   9x1=9   \n",
            "1x2=2   2x2=4   3x2=6   4x2=8   5x2=10  6x2=12  7x2=14  8x2=16  9x2=18  \n",
            "1x3=3   2x3=6   3x3=9   4x3=12  5x3=15  6x3=18  7x3=21  8x3=24  9x3=27  \n",
            "1x4=4   2x4=8   3x4=12  4x4=16  5x4=20  6x4=24  7x4=28  8x4=32  9x4=36  \n",
            "1x5=5   2x5=10  3x5=15  4x5=20  5x5=25  6x5=30  7x5=35  8x5=40  9x5=45  \n",
            "1x6=6   2x6=12  3x6=18  4x6=24  5x6=30  6x6=36  7x6=42  8x6=48  9x6=54  \n",
            "1x7=7   2x7=14  3x7=21  4x7=28  5x7=35  6x7=42  7x7=49  8x7=56  9x7=63  \n",
            "1x8=8   2x8=16  3x8=24  4x8=32  5x8=40  6x8=48  7x8=56  8x8=64  9x8=72  \n",
            "1x9=9   2x9=18  3x9=27  4x9=36  5x9=45  6x9=54  7x9=63  8x9=72  9x9=81  \n"
          ]
        }
      ],
      "source": [
        "b=1\n",
        "while b<=9:\n",
        "  a=1\n",
        "  while a<=9:\n",
        "      ans=a*b\n",
        "      print(f'{a}x{b}={ans:<2d}',end='  ')\n",
        "      a=a+1\n",
        "  b=b+1\n",
        "  print()"
      ]
    },
    {
      "cell_type": "code",
      "source": [
        "import random\n",
        "\n",
        "z=0\n",
        "a=0\n",
        "b=random.sample(range(1,10),4)\n",
        "print('答案：',b[0],b[1],b[2],b[3])\n",
        "while a<=3:\n",
        "  i=0\n",
        "  j=0\n",
        "  m=input('輸入四個數字（不會重複）')\n",
        "  c=list(m)\n",
        "  if len(m)>4:\n",
        "    print('輸入數字過多，請輸入四個數字（不會重複）')\n",
        "    continue\n",
        "  else:\n",
        "    for k in [0,1,2,3]:\n",
        "      if b[k]==int(c[k]):\n",
        "        i+=1\n",
        "      else:\n",
        "        z+=1\n",
        "    if b[0]==int(c[1]) or b[0]==int(c[2]) or b[0]==int(c[3]):\n",
        "      j+=1\n",
        "    else:\n",
        "      z+=1\n",
        "    if b[1]==int(c[0]) or b[1]==int(c[2]) or b[1]==int(c[3]):\n",
        "      j+=1\n",
        "    else:\n",
        "      z+=1\n",
        "    if b[2]==int(c[0]) or b[2]==int(c[1]) or b[2]==int(c[3]):\n",
        "      j+=1\n",
        "    else:\n",
        "      z+=1\n",
        "    if b[3]==int(c[0]) or b[3]==int(c[1]) or b[3]==int(c[2]):\n",
        "      j+=1\n",
        "    else:\n",
        "      z+=1\n",
        "\n",
        "    if i==4:\n",
        "      print(c[0],c[1],c[2],c[3],':  ',i,'A',j,'B')\n",
        "      print('答對了！總共用了',a+1,'次')\n",
        "      break\n",
        "    else:\n",
        "      print(c[0],c[1],c[2],c[3],':  ',i,'A',j,'B')\n",
        "  a+=1"
      ],
      "metadata": {
        "id": "nH4ci_Gownoy",
        "colab": {
          "base_uri": "https://localhost:8080/"
        },
        "outputId": "173a3188-5352-4fc2-d627-46472d02c152"
      },
      "execution_count": 4,
      "outputs": [
        {
          "output_type": "stream",
          "name": "stdout",
          "text": [
            "答案： 2 1 7 5\n",
            "輸入四個數字（不會重複）11953\n",
            "輸入數字過多，請輸入四個數字（不會重複）\n",
            "輸入四個數字（不會重複）1234\n",
            "1 2 3 4 :   0 A 2 B\n",
            "輸入四個數字（不會重複）2341\n",
            "2 3 4 1 :   1 A 1 B\n",
            "輸入四個數字（不會重複）2134\n",
            "2 1 3 4 :   2 A 0 B\n",
            "輸入四個數字（不會重複）2175\n",
            "2 1 7 5 :   4 A 0 B\n",
            "答對了！總共用了 4 次\n"
          ]
        }
      ]
    }
  ]
}
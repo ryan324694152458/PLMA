{
  "nbformat": 4,
  "nbformat_minor": 0,
  "metadata": {
    "colab": {
      "provenance": []
    },
    "kernelspec": {
      "name": "python3",
      "display_name": "Python 3"
    },
    "language_info": {
      "name": "python"
    }
  },
  "cells": [
    {
      "cell_type": "code",
      "execution_count": 3,
      "metadata": {
        "colab": {
          "base_uri": "https://localhost:8080/"
        },
        "id": "qZM2lNP6kGrb",
        "outputId": "c9260df4-6448-4560-f34c-584b9846610e"
      },
      "outputs": [
        {
          "output_type": "stream",
          "name": "stdout",
          "text": [
            "請輸入身高，單位是公分170\n",
            "請輸入體重，單位是公斤75\n",
            "25.95155709342561\n",
            "過重\n"
          ]
        }
      ],
      "source": [
        "a=int(input('請輸入身高，單位是公分'))\n",
        "b=int(input('請輸入體重，單位是公斤'))\n",
        "a/=100\n",
        "b/=a**2\n",
        "print(float(b))\n",
        "if b<18.5:\n",
        " print('過輕')\n",
        "elif 18.5<=b<24:\n",
        " print('適中')\n",
        "elif 24<=b<27:\n",
        " print('過重')\n",
        "elif a>=27:\n",
        " print('肥胖')"
      ]
    },
    {
      "cell_type": "code",
      "source": [],
      "metadata": {
        "id": "9ugCbZDmsH4c"
      },
      "execution_count": null,
      "outputs": []
    },
    {
      "cell_type": "code",
      "source": [
        "a=int(input('請輸入第一個數字'))\n",
        "b=input('請輸入運算符號')\n",
        "c=int(input('請輸入第二個數字'))\n",
        "if b=='/':\n",
        " print(float(a/c))\n",
        "elif b=='*':\n",
        " print(float(a*c))\n",
        "elif b=='+':\n",
        " print(float(a+c))\n",
        "elif b=='-':\n",
        " print(float(a-c))"
      ],
      "metadata": {
        "colab": {
          "base_uri": "https://localhost:8080/"
        },
        "id": "_0RjxsYWn7Bu",
        "outputId": "0ef0fc18-3dfd-46c2-aea4-dfb3099f0de3"
      },
      "execution_count": 11,
      "outputs": [
        {
          "output_type": "stream",
          "name": "stdout",
          "text": [
            "請輸入第一個數字5\n",
            "請輸入運算符號+\n",
            "請輸入第二個數字2\n",
            "7.0\n"
          ]
        }
      ]
    }
  ]
}
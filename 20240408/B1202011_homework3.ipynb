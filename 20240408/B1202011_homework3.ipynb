a=int(input('請輸入年分'))
if a<1582:
  if a%4==0:
    print('閏年')
  else:
    print('平年')
elif a>=1582:
  if a%4==0 and a%100!=0 or a%400==0:
    print('閏年')
  else:
    print('平年')
     
請輸入年分2000
閏年

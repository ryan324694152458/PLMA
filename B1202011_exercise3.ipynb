{
  "nbformat": 4,
  "nbformat_minor": 0,
  "metadata": {
    "colab": {
      "provenance": []
    },
    "kernelspec": {
      "name": "python3",
      "display_name": "Python 3"
    },
    "language_info": {
      "name": "python"
    }
  },
  "cells": [
    {
      "cell_type": "code",
      "execution_count": 5,
      "metadata": {
        "colab": {
          "base_uri": "https://localhost:8080/"
        },
        "id": "2Sl0_JW7eTOY",
        "outputId": "a722ae4b-c26b-4d1d-cfca-4c53d74a6fd8"
      },
      "outputs": [
        {
          "output_type": "stream",
          "name": "stdout",
          "text": [
            "{'姓名': '賴宏瑋', '性別': '男', '學號': 'M1129020'}\n",
            "88.33333333333333\n",
            "{'姓名': '許珈綺', '性別': '女', '學號': 'M1229001'}\n",
            "95.0\n"
          ]
        }
      ],
      "source": [
        "a={'姓名':'賴宏瑋','性別':'男','作業分數':[95,100,90]}\n",
        "b={'學號':'M1129020'}\n",
        "c={**a,**b}\n",
        "import copy\n",
        "d=copy.deepcopy(c)\n",
        "c['作業分數'][1]=80\n",
        "d['姓名']='許珈綺'\n",
        "d['性別']='女'\n",
        "d['學號']='M1229001'\n",
        "e=c.pop('作業分數')\n",
        "k=e[0]+e[1]+e[2]\n",
        "k/=3\n",
        "f=d.pop('作業分數')\n",
        "g=f[0]+f[1]+f[2]\n",
        "g/=3\n",
        "print(c)\n",
        "print(k)\n",
        "print(d)\n",
        "print(g)"
      ]
    },
    {
      "cell_type": "code",
      "source": [
        "a=[100,50,45,60,90,95,80,50]\n",
        "a.insert(0,88)\n",
        "a[2:4]=[70,50]\n",
        "a.remove(50)\n",
        "b=a.pop(0)\n",
        "c=a.pop(-1)\n",
        "d=b+c\n",
        "print(d)"
      ],
      "metadata": {
        "colab": {
          "base_uri": "https://localhost:8080/"
        },
        "id": "ZEjGeKYCjYtn",
        "outputId": "8240e594-48c3-4ac1-bf3f-e1e0a8447f85"
      },
      "execution_count": 9,
      "outputs": [
        {
          "output_type": "stream",
          "name": "stdout",
          "text": [
            "138\n"
          ]
        }
      ]
    },
    {
      "cell_type": "code",
      "source": [
        "A=347//3\n",
        "B=347%3\n",
        "C=A**B\n",
        "print(C)"
      ],
      "metadata": {
        "colab": {
          "base_uri": "https://localhost:8080/"
        },
        "id": "z8CY-wZtm5kP",
        "outputId": "430af337-7550-4074-df18-3c182ca7000e"
      },
      "execution_count": 17,
      "outputs": [
        {
          "output_type": "stream",
          "name": "stdout",
          "text": [
            "13225\n"
          ]
        }
      ]
    }
  ]
}
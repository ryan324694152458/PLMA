{
  "nbformat": 4,
  "nbformat_minor": 0,
  "metadata": {
    "colab": {
      "provenance": []
    },
    "kernelspec": {
      "name": "python3",
      "display_name": "Python 3"
    },
    "language_info": {
      "name": "python"
    }
  },
  "cells": [
    {
      "cell_type": "code",
      "source": [
        "def tree(a):\n",
        "  for i in range(a):\n",
        "    print((' '*(a-i))+('*')*((2*i+1)))\n",
        "  r = 5\n",
        "  for i in range(r):\n",
        "    print((' ')*8+('*')*3)\n",
        "\n",
        "a = int(input('請輸入高度'))\n",
        "tree(a)"
      ],
      "metadata": {
        "colab": {
          "base_uri": "https://localhost:8080/"
        },
        "id": "d6EWUnOQ3QCy",
        "outputId": "70a2f7af-54ae-4d69-f0ca-a4f95d7e826e"
      },
      "execution_count": 5,
      "outputs": [
        {
          "output_type": "stream",
          "name": "stdout",
          "text": [
            "請輸入高度9\n",
            "         *\n",
            "        ***\n",
            "       *****\n",
            "      *******\n",
            "     *********\n",
            "    ***********\n",
            "   *************\n",
            "  ***************\n",
            " *****************\n",
            "        ***\n",
            "        ***\n",
            "        ***\n",
            "        ***\n",
            "        ***\n"
          ]
        }
      ]
    },
    {
      "cell_type": "code",
      "source": [
        "from binascii import b2a_hex\n",
        "try:\n",
        "  a=int(input('請輸入身高，單位是公分'))\n",
        "  b=int(input('請輸入體重，單位是公斤'))\n",
        "  q=bmi(a,b2a_hex)\n",
        "  print(float(b))\n",
        "  if b < 18.5:\n",
        "    print('過輕')\n",
        "  elif 18.5<=b<24:\n",
        "    print('適中')\n",
        "  elif 24<=b<27:\n",
        "    print('過重')\n",
        "  elif a>=27:\n",
        "    print('肥胖')\n",
        "except:\n",
        "    print('輸入內容錯誤')\n",
        "def bmi(a,b)\n",
        "a/=100\n",
        "b/=a**2\n",
        "\n",
        "\n",
        "\n"
      ],
      "metadata": {
        "colab": {
          "base_uri": "https://localhost:8080/"
        },
        "id": "hwkyuc2xy1zL",
        "outputId": "f84481a8-bfc5-43a5-dc98-608800bd8959"
      },
      "execution_count": null,
      "outputs": [
        {
          "output_type": "stream",
          "name": "stdout",
          "text": [
            "請輸入身高，單位是公分185\n",
            "請輸入體重，單位是公斤52\n",
            "15.193571950328705\n",
            "過輕\n"
          ]
        }
      ]
    }
  ]
}